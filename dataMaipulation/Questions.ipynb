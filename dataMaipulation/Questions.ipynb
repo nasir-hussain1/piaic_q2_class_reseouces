{
 "cells": [
  {
   "cell_type": "markdown",
   "metadata": {},
   "source": [
    "# Extra Practise - Basics\n",
    "\n",
    "In this optional practise session, I thought it would be fun to look at some cost of living data from, you guessed it, Kaggle: https://www.kaggle.com/stephenofarrell/cost-of-living\n",
    "\n",
    "Here are the objectives:\n",
    "\n",
    "1. Rename the \"index\" column to \"location\"\n",
    "2. Utilise apply to generate two new columns from the location - city and country\n",
    "3. Realise the easy solution doesn't doesnt work for the United States and create a function for apply to remove specific states.\n",
    "3. Figure out which country has the most cities listed, and create a dataset from only that country\n",
    "4. Sort the dataset by the cost of living 'Apartment (1 bedroom) in City Centre'\n",
    "5. Cry over housing prices if you live in the Bay Area.\n",
    "\n",
    "After that, feel free to keep playing with the data yourself.\n"
   ]
  },
  {
   "cell_type": "code",
   "execution_count": 32,
   "metadata": {
    "ExecuteTime": {
     "end_time": "2020-02-03T02:01:59.091568Z",
     "start_time": "2020-02-03T02:01:59.056659Z"
    }
   },
   "outputs": [
    {
     "data": {
      "text/html": [
       "<div>\n",
       "<style scoped>\n",
       "    .dataframe tbody tr th:only-of-type {\n",
       "        vertical-align: middle;\n",
       "    }\n",
       "\n",
       "    .dataframe tbody tr th {\n",
       "        vertical-align: top;\n",
       "    }\n",
       "\n",
       "    .dataframe thead th {\n",
       "        text-align: right;\n",
       "    }\n",
       "</style>\n",
       "<table border=\"1\" class=\"dataframe\">\n",
       "  <thead>\n",
       "    <tr style=\"text-align: right;\">\n",
       "      <th></th>\n",
       "      <th>index</th>\n",
       "      <th>Meal, Inexpensive Restaurant</th>\n",
       "      <th>Meal for 2 People, Mid-range Restaurant, Three-course</th>\n",
       "      <th>McMeal at McDonalds (or Equivalent Combo Meal)</th>\n",
       "      <th>Domestic Beer (0.5 liter draught)</th>\n",
       "      <th>Imported Beer (0.33 liter bottle)</th>\n",
       "      <th>Coke/Pepsi (0.33 liter bottle)</th>\n",
       "      <th>Water (0.33 liter bottle)</th>\n",
       "      <th>Milk (regular), (1 liter)</th>\n",
       "      <th>Loaf of Fresh White Bread (500g)</th>\n",
       "      <th>...</th>\n",
       "      <th>Lettuce (1 head)</th>\n",
       "      <th>Cappuccino (regular)</th>\n",
       "      <th>Rice (white), (1kg)</th>\n",
       "      <th>Tomato (1kg)</th>\n",
       "      <th>Banana (1kg)</th>\n",
       "      <th>Onion (1kg)</th>\n",
       "      <th>Beef Round (1kg) (or Equivalent Back Leg Red Meat)</th>\n",
       "      <th>Toyota Corolla 1.6l 97kW Comfort (Or Equivalent New Car)</th>\n",
       "      <th>Preschool (or Kindergarten), Full Day, Private, Monthly for 1 Child</th>\n",
       "      <th>International Primary School, Yearly for 1 Child</th>\n",
       "    </tr>\n",
       "  </thead>\n",
       "  <tbody>\n",
       "    <tr>\n",
       "      <th>0</th>\n",
       "      <td>Saint Petersburg, Russia</td>\n",
       "      <td>7.34</td>\n",
       "      <td>29.35</td>\n",
       "      <td>4.40</td>\n",
       "      <td>2.20</td>\n",
       "      <td>2.20</td>\n",
       "      <td>0.76</td>\n",
       "      <td>0.53</td>\n",
       "      <td>0.98</td>\n",
       "      <td>0.71</td>\n",
       "      <td>...</td>\n",
       "      <td>0.86</td>\n",
       "      <td>1.96</td>\n",
       "      <td>0.92</td>\n",
       "      <td>1.91</td>\n",
       "      <td>0.89</td>\n",
       "      <td>0.48</td>\n",
       "      <td>7.18</td>\n",
       "      <td>19305.29</td>\n",
       "      <td>411.83</td>\n",
       "      <td>5388.86</td>\n",
       "    </tr>\n",
       "    <tr>\n",
       "      <th>1</th>\n",
       "      <td>Istanbul, Turkey</td>\n",
       "      <td>4.58</td>\n",
       "      <td>15.28</td>\n",
       "      <td>3.82</td>\n",
       "      <td>3.06</td>\n",
       "      <td>3.06</td>\n",
       "      <td>0.64</td>\n",
       "      <td>0.24</td>\n",
       "      <td>0.71</td>\n",
       "      <td>0.36</td>\n",
       "      <td>...</td>\n",
       "      <td>0.61</td>\n",
       "      <td>1.84</td>\n",
       "      <td>1.30</td>\n",
       "      <td>0.80</td>\n",
       "      <td>1.91</td>\n",
       "      <td>0.62</td>\n",
       "      <td>9.73</td>\n",
       "      <td>20874.72</td>\n",
       "      <td>282.94</td>\n",
       "      <td>6905.43</td>\n",
       "    </tr>\n",
       "    <tr>\n",
       "      <th>2</th>\n",
       "      <td>Izmir, Turkey</td>\n",
       "      <td>3.06</td>\n",
       "      <td>12.22</td>\n",
       "      <td>3.06</td>\n",
       "      <td>2.29</td>\n",
       "      <td>2.75</td>\n",
       "      <td>0.61</td>\n",
       "      <td>0.22</td>\n",
       "      <td>0.65</td>\n",
       "      <td>0.38</td>\n",
       "      <td>...</td>\n",
       "      <td>0.57</td>\n",
       "      <td>1.56</td>\n",
       "      <td>1.31</td>\n",
       "      <td>0.70</td>\n",
       "      <td>1.78</td>\n",
       "      <td>0.58</td>\n",
       "      <td>8.61</td>\n",
       "      <td>20898.83</td>\n",
       "      <td>212.18</td>\n",
       "      <td>4948.41</td>\n",
       "    </tr>\n",
       "    <tr>\n",
       "      <th>3</th>\n",
       "      <td>Helsinki, Finland</td>\n",
       "      <td>12.00</td>\n",
       "      <td>65.00</td>\n",
       "      <td>8.00</td>\n",
       "      <td>6.50</td>\n",
       "      <td>6.75</td>\n",
       "      <td>2.66</td>\n",
       "      <td>1.89</td>\n",
       "      <td>0.96</td>\n",
       "      <td>2.27</td>\n",
       "      <td>...</td>\n",
       "      <td>2.30</td>\n",
       "      <td>3.87</td>\n",
       "      <td>2.13</td>\n",
       "      <td>2.91</td>\n",
       "      <td>1.61</td>\n",
       "      <td>1.25</td>\n",
       "      <td>12.34</td>\n",
       "      <td>24402.77</td>\n",
       "      <td>351.60</td>\n",
       "      <td>1641.00</td>\n",
       "    </tr>\n",
       "    <tr>\n",
       "      <th>4</th>\n",
       "      <td>Chisinau, Moldova</td>\n",
       "      <td>4.67</td>\n",
       "      <td>20.74</td>\n",
       "      <td>4.15</td>\n",
       "      <td>1.04</td>\n",
       "      <td>1.43</td>\n",
       "      <td>0.64</td>\n",
       "      <td>0.44</td>\n",
       "      <td>0.68</td>\n",
       "      <td>0.33</td>\n",
       "      <td>...</td>\n",
       "      <td>0.84</td>\n",
       "      <td>1.25</td>\n",
       "      <td>0.93</td>\n",
       "      <td>1.56</td>\n",
       "      <td>1.37</td>\n",
       "      <td>0.59</td>\n",
       "      <td>5.37</td>\n",
       "      <td>17238.13</td>\n",
       "      <td>210.52</td>\n",
       "      <td>2679.30</td>\n",
       "    </tr>\n",
       "  </tbody>\n",
       "</table>\n",
       "<p>5 rows × 56 columns</p>\n",
       "</div>"
      ],
      "text/plain": [
       "                      index  Meal, Inexpensive Restaurant  \\\n",
       "0  Saint Petersburg, Russia                          7.34   \n",
       "1          Istanbul, Turkey                          4.58   \n",
       "2             Izmir, Turkey                          3.06   \n",
       "3         Helsinki, Finland                         12.00   \n",
       "4         Chisinau, Moldova                          4.67   \n",
       "\n",
       "   Meal for 2 People, Mid-range Restaurant, Three-course  \\\n",
       "0                                              29.35       \n",
       "1                                              15.28       \n",
       "2                                              12.22       \n",
       "3                                              65.00       \n",
       "4                                              20.74       \n",
       "\n",
       "   McMeal at McDonalds (or Equivalent Combo Meal)  \\\n",
       "0                                            4.40   \n",
       "1                                            3.82   \n",
       "2                                            3.06   \n",
       "3                                            8.00   \n",
       "4                                            4.15   \n",
       "\n",
       "   Domestic Beer (0.5 liter draught)  Imported Beer (0.33 liter bottle)  \\\n",
       "0                               2.20                               2.20   \n",
       "1                               3.06                               3.06   \n",
       "2                               2.29                               2.75   \n",
       "3                               6.50                               6.75   \n",
       "4                               1.04                               1.43   \n",
       "\n",
       "   Coke/Pepsi (0.33 liter bottle)  Water (0.33 liter bottle)   \\\n",
       "0                            0.76                        0.53   \n",
       "1                            0.64                        0.24   \n",
       "2                            0.61                        0.22   \n",
       "3                            2.66                        1.89   \n",
       "4                            0.64                        0.44   \n",
       "\n",
       "   Milk (regular), (1 liter)  Loaf of Fresh White Bread (500g)  ...  \\\n",
       "0                       0.98                              0.71  ...   \n",
       "1                       0.71                              0.36  ...   \n",
       "2                       0.65                              0.38  ...   \n",
       "3                       0.96                              2.27  ...   \n",
       "4                       0.68                              0.33  ...   \n",
       "\n",
       "   Lettuce (1 head)  Cappuccino (regular)  Rice (white), (1kg)  Tomato (1kg)  \\\n",
       "0              0.86                  1.96                 0.92          1.91   \n",
       "1              0.61                  1.84                 1.30          0.80   \n",
       "2              0.57                  1.56                 1.31          0.70   \n",
       "3              2.30                  3.87                 2.13          2.91   \n",
       "4              0.84                  1.25                 0.93          1.56   \n",
       "\n",
       "   Banana (1kg)  Onion (1kg)  \\\n",
       "0          0.89         0.48   \n",
       "1          1.91         0.62   \n",
       "2          1.78         0.58   \n",
       "3          1.61         1.25   \n",
       "4          1.37         0.59   \n",
       "\n",
       "   Beef Round (1kg) (or Equivalent Back Leg Red Meat)  \\\n",
       "0                                               7.18    \n",
       "1                                               9.73    \n",
       "2                                               8.61    \n",
       "3                                              12.34    \n",
       "4                                               5.37    \n",
       "\n",
       "   Toyota Corolla 1.6l 97kW Comfort (Or Equivalent New Car)  \\\n",
       "0                                           19305.29          \n",
       "1                                           20874.72          \n",
       "2                                           20898.83          \n",
       "3                                           24402.77          \n",
       "4                                           17238.13          \n",
       "\n",
       "   Preschool (or Kindergarten), Full Day, Private, Monthly for 1 Child  \\\n",
       "0                                             411.83                     \n",
       "1                                             282.94                     \n",
       "2                                             212.18                     \n",
       "3                                             351.60                     \n",
       "4                                             210.52                     \n",
       "\n",
       "   International Primary School, Yearly for 1 Child  \n",
       "0                                           5388.86  \n",
       "1                                           6905.43  \n",
       "2                                           4948.41  \n",
       "3                                           1641.00  \n",
       "4                                           2679.30  \n",
       "\n",
       "[5 rows x 56 columns]"
      ]
     },
     "execution_count": 32,
     "metadata": {},
     "output_type": "execute_result"
    }
   ],
   "source": [
    "# Code to start you off and manipulate the data. .T is transpose - swap columns and rows\n",
    "import pandas as pd\n",
    "\n",
    "df = pd.read_csv(\"cost-of-living.csv\", index_col=0).T.reset_index()\n",
    "df.head()"
   ]
  },
  {
   "cell_type": "markdown",
   "metadata": {},
   "source": [
    "## Rename column"
   ]
  },
  {
   "cell_type": "code",
   "execution_count": 1,
   "metadata": {
    "ExecuteTime": {
     "end_time": "2020-02-03T02:16:15.578519Z",
     "start_time": "2020-02-03T02:16:15.574529Z"
    }
   },
   "outputs": [],
   "source": [
    "# your code here"
   ]
  },
  {
   "cell_type": "markdown",
   "metadata": {},
   "source": [
    "## Get city and country"
   ]
  },
  {
   "cell_type": "code",
   "execution_count": 2,
   "metadata": {
    "ExecuteTime": {
     "end_time": "2020-02-03T02:16:18.088160Z",
     "start_time": "2020-02-03T02:16:18.084161Z"
    }
   },
   "outputs": [],
   "source": [
    "# your code here"
   ]
  },
  {
   "cell_type": "code",
   "execution_count": 3,
   "metadata": {
    "ExecuteTime": {
     "end_time": "2020-02-03T02:16:46.755343Z",
     "start_time": "2020-02-03T02:16:46.752351Z"
    }
   },
   "outputs": [],
   "source": [
    "# And - if needed - correct for the US including states and nowhere else doing it"
   ]
  },
  {
   "cell_type": "markdown",
   "metadata": {},
   "source": [
    "## Figure out which country has the most cities"
   ]
  },
  {
   "cell_type": "code",
   "execution_count": 4,
   "metadata": {
    "ExecuteTime": {
     "end_time": "2020-02-03T02:16:50.046784Z",
     "start_time": "2020-02-03T02:16:50.042796Z"
    }
   },
   "outputs": [],
   "source": [
    "# your code here"
   ]
  },
  {
   "cell_type": "markdown",
   "metadata": {},
   "source": [
    "## Create a subset of only that country"
   ]
  },
  {
   "cell_type": "code",
   "execution_count": 5,
   "metadata": {
    "ExecuteTime": {
     "end_time": "2020-02-03T02:16:54.606541Z",
     "start_time": "2020-02-03T02:16:54.602530Z"
    }
   },
   "outputs": [],
   "source": [
    "# your code here"
   ]
  },
  {
   "cell_type": "markdown",
   "metadata": {},
   "source": [
    "## Sort by housing accommodation"
   ]
  },
  {
   "cell_type": "code",
   "execution_count": 8,
   "metadata": {
    "ExecuteTime": {
     "end_time": "2020-02-03T02:17:07.409143Z",
     "start_time": "2020-02-03T02:17:07.406151Z"
    }
   },
   "outputs": [],
   "source": [
    "col = \"Apartment (1 bedroom) in City Centre\"\n",
    "# your code here"
   ]
  },
  {
   "cell_type": "markdown",
   "metadata": {},
   "source": [
    "## Despair over the cost of housing"
   ]
  }
 ],
 "metadata": {
  "kernelspec": {
   "display_name": "Python 3",
   "language": "python",
   "name": "python3"
  },
  "language_info": {
   "codemirror_mode": {
    "name": "ipython",
    "version": 3
   },
   "file_extension": ".py",
   "mimetype": "text/x-python",
   "name": "python",
   "nbconvert_exporter": "python",
   "pygments_lexer": "ipython3",
   "version": "3.7.3"
  }
 },
 "nbformat": 4,
 "nbformat_minor": 2
}
