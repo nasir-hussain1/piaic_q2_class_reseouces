{
 "cells": [
  {
   "cell_type": "markdown",
   "metadata": {},
   "source": [
    "# Optional Exercise - Data loading\n",
    "\n",
    "Heres a very short example for four files to load in. None of these example should be hard, but the idea is to familiarise yourself with the sorts of error messages or weird output you'd get if you load in with the defaults (and they don't work), and then how to change your input arguments to make it better.\n",
    "\n",
    "The files to attempt to load in are:\n",
    "\n",
    "1. example.pkl\n",
    "2. example_1.csv\n",
    "3. example_2.csv\n",
    "3. example_3.csv\n",
    "3. example_4.csv"
   ]
  },
  {
   "cell_type": "code",
   "execution_count": 1,
   "metadata": {
    "ExecuteTime": {
     "end_time": "2020-03-17T04:34:36.761456Z",
     "start_time": "2020-03-17T04:34:36.452524Z"
    }
   },
   "outputs": [],
   "source": [
    "import pandas as pd"
   ]
  },
  {
   "cell_type": "code",
   "execution_count": 3,
   "metadata": {
    "ExecuteTime": {
     "end_time": "2020-03-17T04:35:03.643107Z",
     "start_time": "2020-03-17T04:35:03.639118Z"
    }
   },
   "outputs": [],
   "source": [
    "# Load example.pkl"
   ]
  },
  {
   "cell_type": "code",
   "execution_count": 4,
   "metadata": {
    "ExecuteTime": {
     "end_time": "2020-03-17T04:35:05.900792Z",
     "start_time": "2020-03-17T04:35:05.896809Z"
    }
   },
   "outputs": [],
   "source": [
    "# Load example_1.csv"
   ]
  },
  {
   "cell_type": "code",
   "execution_count": 5,
   "metadata": {
    "ExecuteTime": {
     "end_time": "2020-03-17T04:35:07.023962Z",
     "start_time": "2020-03-17T04:35:07.021962Z"
    }
   },
   "outputs": [],
   "source": [
    "# Load example_2.csv"
   ]
  },
  {
   "cell_type": "code",
   "execution_count": 6,
   "metadata": {
    "ExecuteTime": {
     "end_time": "2020-03-17T04:35:07.698522Z",
     "start_time": "2020-03-17T04:35:07.694534Z"
    }
   },
   "outputs": [],
   "source": [
    "# Load example_3.csv"
   ]
  },
  {
   "cell_type": "code",
   "execution_count": 7,
   "metadata": {
    "ExecuteTime": {
     "end_time": "2020-03-17T04:35:08.514409Z",
     "start_time": "2020-03-17T04:35:08.511417Z"
    }
   },
   "outputs": [],
   "source": [
    "# Load example_4.csv"
   ]
  },
  {
   "cell_type": "code",
   "execution_count": null,
   "metadata": {},
   "outputs": [],
   "source": []
  }
 ],
 "metadata": {
  "kernelspec": {
   "display_name": "Python 3",
   "language": "python",
   "name": "python3"
  },
  "language_info": {
   "codemirror_mode": {
    "name": "ipython",
    "version": 3
   },
   "file_extension": ".py",
   "mimetype": "text/x-python",
   "name": "python",
   "nbconvert_exporter": "python",
   "pygments_lexer": "ipython3",
   "version": "3.7.3"
  }
 },
 "nbformat": 4,
 "nbformat_minor": 2
}
